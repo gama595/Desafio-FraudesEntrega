{
  "nbformat": 4,
  "nbformat_minor": 0,
  "metadata": {
    "colab": {
      "name": "Sprint Cyber.ipynb",
      "provenance": [],
      "collapsed_sections": [],
      "toc_visible": true
    },
    "kernelspec": {
      "name": "python3",
      "display_name": "Python 3"
    },
    "language_info": {
      "name": "python"
    }
  },
  "cells": [
    {
      "cell_type": "markdown",
      "metadata": {
        "id": "FlGW4Eu18Pw7"
      },
      "source": [
        "## Problema e Objetivo\n",
        "\n",
        "Imagine que um cliente faça uma compra de um item como, por exemplo, computador ou celular. O item é devidamente entregue, mas o usuário afirma que não. Como podemos garantir a entrega do produto?\n",
        "\n",
        "Vocês deverão utilizar Optical Character Recognition (OCR) para garantir que a assinatura feita durante a entrega de um determinado produto é semelhante à assinatura de um documento pessoal do mesmo cliente."
      ]
    },
    {
      "cell_type": "code",
      "metadata": {
        "id": "5ohb45dxOQa1"
      },
      "source": [
        "#Instalando dependencias\n",
        "!sudo apt install tesseract-ocr\n",
        "!pip install pytesseract\n",
        "!pip install unidecode"
      ],
      "execution_count": null,
      "outputs": []
    },
    {
      "cell_type": "code",
      "metadata": {
        "id": "s6P2OT5aNBSK"
      },
      "source": [
        "#Importando pacotes e bibliotecas\n",
        "import os\n",
        "import pytesseract\n",
        "import cv2\n",
        "from matplotlib import pyplot as plt\n",
        "import pandas as pd\n",
        "import numpy as np\n",
        "from unidecode import unidecode\n",
        "from numpy import random\n",
        "try:\n",
        "  from PIL import Image, ImageChops, ImageStat\n",
        "except ImportError:\n",
        "  import Image\n",
        "from google.colab import files\n",
        "from google.colab.patches import cv2_imshow\n",
        "import zipfile\n",
        "import seaborn as sns"
      ],
      "execution_count": null,
      "outputs": []
    },
    {
      "cell_type": "code",
      "metadata": {
        "id": "sq3yM-lbORfB"
      },
      "source": [
        "df = pd.read_excel(\"table_nomeFraude.xlsx\")\n",
        "risco = 0"
      ],
      "execution_count": null,
      "outputs": []
    },
    {
      "cell_type": "code",
      "metadata": {
        "id": "wdz0OrZ9ORYN",
        "colab": {
          "base_uri": "https://localhost:8080/",
          "height": 461
        },
        "outputId": "f03e4985-952e-44c0-ba36-582cf6cb34a0"
      },
      "source": [
        "sns.set(font_scale = 1.5)\n",
        "gra = sns.displot(df, x=\"Fraude\", hue=\"Destinatario Recebeu\", height=6, aspect=1.5)\n",
        "gra.set(xlabel = \"Fraudes\", ylabel = \"Qtd\", title = \"Quantidade de fraudes por recebimento de terceiros\")"
      ],
      "execution_count": null,
      "outputs": [
        {
          "output_type": "execute_result",
          "data": {
            "text/plain": [
              "<seaborn.axisgrid.FacetGrid at 0x7f3ee6a423d0>"
            ]
          },
          "metadata": {
            "tags": []
          },
          "execution_count": 15
        },
        {
          "output_type": "display_data",
          "data": {
            "image/png": "[encoded data removed]",
            "text/plain": [
              "<Figure size 855.575x432 with 1 Axes>"
            ]
          },
          "metadata": {
            "tags": []
          }
        }
      ]
    },
    {
      "cell_type": "markdown",
      "metadata": {
        "id": "-qbqk5CUYJjD"
      },
      "source": [
        "Analisando um grafico do nosso dataframe conseguimos perceber que a maioria das fraudes está ligado quando outra pessoa recebe a mercadoria, pensando nisso resolvemos fazer a seguintes resoluções.\n",
        "\n",
        "*   Verificar se a assinatura do remetente corresponde ao de quem fez o pedido\n",
        "*   Verificar e calcular a diferença da digital\n"
      ]
    },
    {
      "cell_type": "markdown",
      "metadata": {
        "id": "BLTYeIUeSpML"
      },
      "source": [
        "#Metodo 01 - Assinatura"
      ]
    },
    {
      "cell_type": "code",
      "metadata": {
        "id": "cteLQH1lZySq"
      },
      "source": [
        "try:\n",
        "  nome = input(\"Digite o nome do remetente: \")\n",
        "except:\n",
        "  print(\"Erro ao inserir o nome\")"
      ],
      "execution_count": null,
      "outputs": []
    },
    {
      "cell_type": "code",
      "metadata": {
        "id": "i3PjEPklORLT"
      },
      "source": [
        "try:\n",
        "  print(\"Assinatura de recebimento\")\n",
        "  assinatura = files.upload()\n",
        "  for i in assinatura.keys():\n",
        "        print('Arquivo \"{nome}\" tamanho {tamanho} bytes'.format(nome=i, tamanho=len(assinatura[i])))\n",
        "        ass = i\n",
        "except:\n",
        "  print(\"Erro no upload de imagem\")"
      ],
      "execution_count": null,
      "outputs": []
    },
    {
      "cell_type": "code",
      "metadata": {
        "id": "g7IwiHD1ORGl"
      },
      "source": [
        "#Faremos uma simples verificação de segurança da imagem enviada\n",
        "try:\n",
        "  ass_zip = zipfile.ZipFile(\"ass_zip.zip\", \"w\")\n",
        "  ass_zip.write(ass, compress_type=zipfile.ZIP_DEFLATED)\n",
        "  ass_zip.close()\n",
        "  ass_unzip = zipfile.ZipFile(\"ass_zip.zip\")\n",
        "  ass_unzip.extractall(\"./Imagens\")\n",
        "  ass_unzip.close()\n",
        "  dire = \"./\" + ass\n",
        "  os.remove(dire)\n",
        "  assinatura = \"Imagens/\" + ass\n",
        "except:\n",
        "  print(\"Erro na verificação de segurança\")"
      ],
      "execution_count": null,
      "outputs": []
    },
    {
      "cell_type": "code",
      "metadata": {
        "id": "lP9Jrm5MORB_"
      },
      "source": [
        "#Função para limpar a imagem da assinatura\n",
        "def filtros(img):\n",
        "\n",
        "    imagem = img\n",
        "\n",
        "    kernel = np.ones((1, 1), np.uint8)\n",
        "    imagem = cv2.dilate(imagem, kernel, iterations=1)\n",
        "    imagem = cv2.erode(imagem, kernel, iterations=1)\n",
        "\n",
        "    imagem = cv2.cvtColor(imagem, cv2.COLOR_BGR2GRAY)\n",
        "    imagem = cv2.threshold(cv2.GaussianBlur(imagem, (5, 5), 0), 0, 255, cv2.THRESH_BINARY + cv2.THRESH_OTSU)[1]\n",
        "    imagem = cv2.threshold(cv2.bilateralFilter(imagem, 5, 75, 75), 0, 255, cv2.THRESH_BINARY + cv2.THRESH_OTSU)[1]\n",
        "    imagem = cv2.threshold(cv2.medianBlur(imagem, 3), 0, 255, cv2.THRESH_BINARY + cv2.THRESH_OTSU)[1]\n",
        "    imagem = cv2.adaptiveThreshold(cv2.GaussianBlur(imagem, (5, 5), 0), 255, cv2.ADAPTIVE_THRESH_GAUSSIAN_C, cv2.THRESH_BINARY, 31, 2)\n",
        "    imagem = cv2.adaptiveThreshold(cv2.bilateralFilter(imagem, 9, 75, 75), 255, cv2.ADAPTIVE_THRESH_GAUSSIAN_C, cv2.THRESH_BINARY, 31, 2)\n",
        "    imagem = cv2.adaptiveThreshold(cv2.medianBlur(imagem, 3), 255, cv2.ADAPTIVE_THRESH_GAUSSIAN_C, cv2.THRESH_BINARY, 31, 2)\n",
        "\n",
        "    return imagem"
      ],
      "execution_count": null,
      "outputs": []
    },
    {
      "cell_type": "code",
      "metadata": {
        "id": "zaiPD9yoOQ_x"
      },
      "source": [
        "#Convertendo a imagem, aplicando os filtros e salvando\n",
        "img_ass = cv2.imread(assinatura)\n",
        "ass_filtro = filtros(img_ass)\n",
        "cv2.imwrite(\"assinatura_filtrada.png\", ass_filtro)"
      ],
      "execution_count": null,
      "outputs": []
    },
    {
      "cell_type": "code",
      "metadata": {
        "id": "zAWf_Yh7OQ9a"
      },
      "source": [
        "#Fazendo a leitura da imagem e convertendo para string\n",
        "assinaturaString = pytesseract.image_to_string(Image.open(\"assinatura_filtrada.png\"))\n",
        "\n",
        "#Limpando excesso de espaços\n",
        "assinaturaString = assinaturaString.replace('\\n\\x0c', '')\n",
        "\n",
        "#Formatando para apenas maiusculas e retirando acentuação\n",
        "nome = nome.upper()\n",
        "nome = unidecode(nome)\n",
        "assinaturaString = assinaturaString.upper()\n",
        "assinaturaString = unidecode(assinaturaString)\n",
        "\n",
        "#Mostrando as strings geradas\n",
        "print(\"Nome do destinatario: \",nome)\n",
        "print(\"Assinatura recebida: \",assinaturaString)\n",
        "\n",
        "#Verificando a igualdade das strings\n",
        "if assinaturaString is None:\n",
        "  print(\"Erro de leitura\")\n",
        "else:\n",
        "  if nome == assinaturaString:\n",
        "    msg = \"O Destinatario e Recebedor são os mesmos\"\n",
        "  else:\n",
        "    msg = \"O Destinatario e Recebedor são diferentes\"\n",
        "    risco += 40\n",
        "print(msg)"
      ],
      "execution_count": null,
      "outputs": []
    },
    {
      "cell_type": "markdown",
      "metadata": {
        "id": "zmHQeSZWTAgZ"
      },
      "source": [
        "#Metodo 2 - Digital"
      ]
    },
    {
      "cell_type": "code",
      "metadata": {
        "id": "RGPK124FbfND"
      },
      "source": [
        "try:\n",
        "  print(\"Biometria cadastrada no sistema\")\n",
        "  biom_sis = files.upload()\n",
        "  for i in biom_sis.keys():\n",
        "        print('Arquivo \"{nome}\" tamanho {tamanho} bytes'.format(nome=i, tamanho=len(biom_sis[i])))\n",
        "        bi_s = i\n",
        "except:\n",
        "  print(\"Erro no upload de imagem\")"
      ],
      "execution_count": null,
      "outputs": []
    },
    {
      "cell_type": "code",
      "metadata": {
        "id": "8pgaiqES2WGS"
      },
      "source": [
        "try:\n",
        "  print(\"Biometria do recebedor\")\n",
        "  biom = files.upload()\n",
        "  for i in biom.keys():\n",
        "        print('Arquivo \"{nome}\" tamanho {tamanho} bytes'.format(nome=i, tamanho=len(biom[i])))\n",
        "        bi = i\n",
        "except:\n",
        "  print(\"Erro no upload de imagem\")"
      ],
      "execution_count": null,
      "outputs": []
    },
    {
      "cell_type": "code",
      "metadata": {
        "id": "dJBLXLmeYuh8"
      },
      "source": [
        "try:\n",
        "  bio_zip = zipfile.ZipFile(\"bio_zip.zip\", \"w\")\n",
        "  bio_zip.write(bi, compress_type=zipfile.ZIP_DEFLATED)\n",
        "  bio_zip.write(bi_s, compress_type=zipfile.ZIP_DEFLATED)\n",
        "  bio_zip.close()\n",
        "  bio_unzip = zipfile.ZipFile(\"bio_zip.zip\")\n",
        "  bio_unzip.extractall(\"./Imagens\")\n",
        "  bio_unzip.close()\n",
        "  dir = \"./\" + bi\n",
        "  dir2 = \"./\" + bi_s\n",
        "  os.remove(dir)\n",
        "  os.remove(dir2)\n",
        "  bi = \"Imagens/\" + bi\n",
        "  bi_s = \"Imagens/\" + bi_s\n",
        "except:\n",
        "  print(\"Erro na verificação de segurança\")"
      ],
      "execution_count": null,
      "outputs": []
    },
    {
      "cell_type": "code",
      "metadata": {
        "id": "cGQYTh2M2V9C"
      },
      "source": [
        "#Convertendo imagem para RGB\n",
        "biom_sisChops = Image.open(bi_s).convert(\"RGB\")\n",
        "biomChops = Image.open(bi).convert(\"RGB\")"
      ],
      "execution_count": null,
      "outputs": []
    },
    {
      "cell_type": "code",
      "metadata": {
        "id": "W05UNZE3bISH"
      },
      "source": [
        "#Calculando diferença das imagens\n",
        "diff = ImageChops.difference(biomChops, biom_sisChops)\n",
        "\n",
        "stat = ImageStat.Stat(diff)\n",
        "diff_md = sum(stat.mean) / (len(stat.mean) * 255)\n",
        "\n",
        "#Armazenando a diferença\n",
        "diff.getbbox();"
      ],
      "execution_count": null,
      "outputs": []
    },
    {
      "cell_type": "code",
      "metadata": {
        "id": "MJQtjLHCbIM0",
        "colab": {
          "base_uri": "https://localhost:8080/",
          "height": 269
        },
        "outputId": "90013999-a1c4-4b34-9004-cf028c44138d"
      },
      "source": [
        "print(\"Detalhe visual das digitais e comparando suas diferenças\")\n",
        "\n",
        "plt.subplot(2, 2, 1)\n",
        "plt.imshow(biomChops)\n",
        "\n",
        "plt.subplot(2, 2, 2)\n",
        "plt.imshow(biom_sisChops)\n",
        "\n",
        "plt.subplot(2, 2, 3)\n",
        "plt.imshow(diff)\n",
        "\n",
        "plt.axis(\"off\")\n",
        "plt.show()"
      ],
      "execution_count": null,
      "outputs": [
        {
          "output_type": "stream",
          "text": [
            "Detalhe visual das digitais e comparando suas diferenças\n"
          ],
          "name": "stdout"
        },
        {
          "output_type": "display_data",
          "data": {
            "image/png": "[encoded data removed]",
            "text/plain": [
              "<Figure size 432x288 with 3 Axes>"
            ]
          },
          "metadata": {
            "tags": [],
            "needs_background": "light"
          }
        }
      ]
    },
    {
      "cell_type": "code",
      "metadata": {
        "id": "sUQC_jevbIIC",
        "colab": {
          "base_uri": "https://localhost:8080/"
        },
        "outputId": "a1ba25f6-432c-46e7-8d9d-3a79ef6d907d"
      },
      "source": [
        "print(\"Diferença detectada nas Imagens: \", diff_md,\"%\")\n",
        "if diff_md < 0.005:\n",
        "  risco += 10\n",
        "elif diff_md >= 0.005 and diff_md < 0.05:\n",
        "  risco += 15\n",
        "elif diff_md >= 0.05 and diff_md < 0.5:\n",
        "  risco += 20\n",
        "else:\n",
        "  risco += 40"
      ],
      "execution_count": null,
      "outputs": [
        {
          "output_type": "stream",
          "text": [
            "Diferença detectada nas Imagens:  0.003781158324152205 %\n"
          ],
          "name": "stdout"
        }
      ]
    },
    {
      "cell_type": "code",
      "metadata": {
        "colab": {
          "base_uri": "https://localhost:8080/"
        },
        "id": "RXRTAYJAXUJS",
        "outputId": "ce5094db-f70f-4cac-813d-b8cf4a848456"
      },
      "source": [
        "print(\"Risco total calculado:\",risco, \"%\")\n",
        "print(\"Diferença das digitais aproximadamente %.5f\"%diff_md,\"%\")\n",
        "print(msg)"
      ],
      "execution_count": null,
      "outputs": [
        {
          "output_type": "stream",
          "text": [
            "Risco total calculado: 10 %\n",
            "Diferença das digitais aproximadamente 0.00378 %\n",
            "O Destinatario e Recebedor são os mesmos\n"
          ],
          "name": "stdout"
        }
      ]
    },
    {
      "cell_type": "markdown",
      "metadata": {
        "id": "vDdHXFkAb7sS"
      },
      "source": [
        "#Limpando imagens da memória"
      ]
    },
    {
      "cell_type": "code",
      "metadata": {
        "id": "FF9ca7FbXjT9"
      },
      "source": [
        "#Apagando arquivos\n",
        "try:\n",
        "  os.remove(\"./ass_zip.zip\")\n",
        "  os.remove(\"./bio_zip.zip\")\n",
        "\n",
        "  os.remove(\"./assinatura_filtrada.png\")\n",
        "\n",
        "  os.remove(bi)\n",
        "  os.remove(bi_s)\n",
        "  os.remove(\"./Imagens/\" + ass)\n",
        "\n",
        "  os.rmdir(\"./Imagens\")\n",
        "except:\n",
        "  print(\"Erro ao apagar arquivos\")"
      ],
      "execution_count": null,
      "outputs": []
    }
  ]
}